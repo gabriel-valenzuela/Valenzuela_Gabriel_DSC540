{
 "cells": [
  {
   "cell_type": "code",
   "execution_count": 2,
   "metadata": {},
   "outputs": [
    {
     "name": "stdout",
     "output_type": "stream",
     "text": [
      "a   -7.3\n",
      "b   -2.5\n",
      "c    3.4\n",
      "d    1.5\n",
      "dtype: float64\n",
      "a   -2.1\n",
      "b    3.6\n",
      "e   -1.5\n",
      "f    4.0\n",
      "g    3.1\n",
      "dtype: float64\n"
     ]
    }
   ],
   "source": [
    "# Create a series\n",
    "import pandas as pd\n",
    "import numpy as np\n",
    "\n",
    "data_1 = np.array([-7.3, -2.5, 3.4, 1.5])\n",
    "ser_1 = pd.Series(data_1, index = ['a', 'b', 'c', 'd'])\n",
    "print(ser_1)\n",
    "\n",
    "data_2 = np.array([-2.1, 3.6, -1.5, 4, 3.1])\n",
    "ser_2 = pd.Series(data_2, index = ['a', 'b', 'e', 'f', 'g'])\n",
    "print(ser_2)\n"
   ]
  },
  {
   "cell_type": "code",
   "execution_count": 6,
   "metadata": {},
   "outputs": [
    {
     "name": "stdout",
     "output_type": "stream",
     "text": [
      "a   -9.4\n",
      "b    1.1\n",
      "c    3.4\n",
      "d    1.5\n",
      "e   -1.5\n",
      "f    4.0\n",
      "g    3.1\n",
      "dtype: float64\n"
     ]
    }
   ],
   "source": [
    "# Add Series 1 and Series 2\n",
    "print(ser_1.add(ser_2, fill_value = 0))"
   ]
  },
  {
   "cell_type": "code",
   "execution_count": 7,
   "metadata": {},
   "outputs": [
    {
     "name": "stdout",
     "output_type": "stream",
     "text": [
      "a    5.2\n",
      "b    6.1\n",
      "c   -3.4\n",
      "d   -1.5\n",
      "e   -1.5\n",
      "f    4.0\n",
      "g    3.1\n",
      "dtype: float64\n"
     ]
    }
   ],
   "source": [
    "# Subtract Series 1 from Series 2\n",
    "print(ser_2.subtract(ser_1, fill_value = 0))"
   ]
  }
 ],
 "metadata": {
  "kernelspec": {
   "display_name": "Python 3",
   "language": "python",
   "name": "python3"
  },
  "language_info": {
   "codemirror_mode": {
    "name": "ipython",
    "version": 3
   },
   "file_extension": ".py",
   "mimetype": "text/x-python",
   "name": "python",
   "nbconvert_exporter": "python",
   "pygments_lexer": "ipython3",
   "version": "3.7.4"
  }
 },
 "nbformat": 4,
 "nbformat_minor": 2
}
