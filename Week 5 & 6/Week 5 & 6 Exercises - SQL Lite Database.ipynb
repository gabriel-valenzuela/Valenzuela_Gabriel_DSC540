{
 "cells": [
  {
   "cell_type": "code",
   "execution_count": 1,
   "metadata": {},
   "outputs": [],
   "source": [
    "# Create new SQL Lite database\n",
    "import sqlite3\n",
    "conn = sqlite3.connect('ContactInfoDB.db')\n",
    "c = conn.cursor()"
   ]
  },
  {
   "cell_type": "code",
   "execution_count": 2,
   "metadata": {},
   "outputs": [],
   "source": [
    "# Create table - Contact\n",
    "c.execute('''CREATE TABLE CONTACT([generated_id] INTEGER PRIMARY KEY, [name] TEXT, [address] TEXT, [city] TEXT, [state] TEXT, [zip] INTEGER, [phone_number] INTEGER)''')\n",
    "conn.commit()"
   ]
  },
  {
   "cell_type": "code",
   "execution_count": 3,
   "metadata": {},
   "outputs": [],
   "source": [
    "import pandas as pd\n",
    "read_contacts = pd.read_csv(\"C:\\\\Users\\\\Gabe\\\\Documents\\\\Bellevue University\\\\Data Preparation\\\\Week 5 & 6\\\\contact-info.csv\")\n",
    "read_contacts.to_sql('CONTACT', conn, if_exists='append', index=False)"
   ]
  },
  {
   "cell_type": "code",
   "execution_count": 5,
   "metadata": {},
   "outputs": [
    {
     "data": {
      "text/plain": [
       "<sqlite3.Cursor at 0x1fe53097c00>"
      ]
     },
     "execution_count": 5,
     "metadata": {},
     "output_type": "execute_result"
    }
   ],
   "source": [
    "c.execute('''\n",
    "SELECT DISTINCT *\n",
    "FROM CONTACT\n",
    "WHERE address = \"340 Jewett Street\"''')"
   ]
  },
  {
   "cell_type": "code",
   "execution_count": 6,
   "metadata": {},
   "outputs": [
    {
     "name": "stdout",
     "output_type": "stream",
     "text": [
      "(1, 'Gabriel Valenzuela', '340 Jewett Street', 'Platteville', 'WI', 53818, 7085951517)\n",
      "(2, 'Alexis Gonzalez', '340 Jewett Street', 'Platteville', 'WI', 53818, 6083317136)\n",
      "(3, 'Sean Kirby', '340 Jewett Street', 'Platteville', 'WI', 53818, 6089597845)\n"
     ]
    }
   ],
   "source": [
    "rows = c.fetchall()\n",
    "for row in rows:\n",
    "    print(row)"
   ]
  }
 ],
 "metadata": {
  "kernelspec": {
   "display_name": "Python 3",
   "language": "python",
   "name": "python3"
  },
  "language_info": {
   "codemirror_mode": {
    "name": "ipython",
    "version": 3
   },
   "file_extension": ".py",
   "mimetype": "text/x-python",
   "name": "python",
   "nbconvert_exporter": "python",
   "pygments_lexer": "ipython3",
   "version": "3.7.4"
  }
 },
 "nbformat": 4,
 "nbformat_minor": 2
}
