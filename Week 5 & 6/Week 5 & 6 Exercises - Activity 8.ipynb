{
 "cells": [
  {
   "cell_type": "code",
   "execution_count": 1,
   "metadata": {},
   "outputs": [
    {
     "name": "stdout",
     "output_type": "stream",
     "text": [
      "   id first_name last_name                       email gender  \\\n",
      "0   1      Sonny      Dahl            sdahl0@mysql.com   Male   \n",
      "1   2        NaN       NaN           dhoovart1@hud.gov    NaN   \n",
      "2   3        Gar     Armal      garmal2@technorati.com    NaN   \n",
      "3   4    Chiarra     Nulty       cnulty3@newyorker.com    NaN   \n",
      "4   5        NaN       NaN  sleaver4@elegantthemes.com    NaN   \n",
      "\n",
      "        ip_address   visit  \n",
      "0    135.36.96.183  1225.0  \n",
      "1  237.165.194.143   919.0  \n",
      "2   166.43.137.224   271.0  \n",
      "3   139.98.137.108  1002.0  \n",
      "4    46.117.117.27  2434.0  \n"
     ]
    }
   ],
   "source": [
    "# Load and read data\n",
    "import pandas as pd\n",
    "import numpy as np\n",
    "import matplotlib.pyplot as plt\n",
    "%matplotlib inline\n",
    "\n",
    "df = pd.read_csv(\"C:\\\\Users\\\\Gabe\\\\Documents\\\\Bellevue University\\\\Data Preparation\\\\Week 5 & 6\\\\visit_data.csv\")\n",
    "print(df.head())"
   ]
  },
  {
   "cell_type": "code",
   "execution_count": 4,
   "metadata": {},
   "outputs": [
    {
     "name": "stdout",
     "output_type": "stream",
     "text": [
      "First name is duplicated: True\n",
      "Last name is duplicated: True\n",
      "Email is duplicated: False\n"
     ]
    }
   ],
   "source": [
    "# Check for duplicates\n",
    "print(\"First name is duplicated: {}\".format(any(df.first_name.duplicated())))\n",
    "print(\"Last name is duplicated: {}\".format(any(df.last_name.duplicated())))\n",
    "print(\"Email is duplicated: {}\".format(any(df.email.duplicated())))"
   ]
  },
  {
   "cell_type": "code",
   "execution_count": 6,
   "metadata": {},
   "outputs": [
    {
     "name": "stdout",
     "output_type": "stream",
     "text": [
      "Email contains NaN - False \n",
      "IP Address contains NaN - False\n",
      "Visit contains NaN - True \n"
     ]
    }
   ],
   "source": [
    "# Checking essential columns for NaN\n",
    "print(\"Email contains NaN - {} \".format(df.email.isnull().values.any()))\n",
    "print(\"IP Address contains NaN - {}\".format(df.ip_address.isnull().values.any()))\n",
    "print(\"Visit contains NaN - {} \".format(df.visit.isnull().values.any()))"
   ]
  },
  {
   "cell_type": "code",
   "execution_count": 7,
   "metadata": {},
   "outputs": [],
   "source": [
    "# Remove column containing outliers (NaN)\n",
    "size_prev = df.shape\n",
    "df = df[np.isfinite(df['visit'])]\n",
    "size_after = df.shape"
   ]
  },
  {
   "cell_type": "code",
   "execution_count": 11,
   "metadata": {},
   "outputs": [
    {
     "name": "stdout",
     "output_type": "stream",
     "text": [
      "Original Data Set: 1000 rows and New Data Set: 974 rows\n"
     ]
    }
   ],
   "source": [
    "# Size Difference\n",
    "print(\"Original Data Set: {prev[0]} rows and New Data Set: {after[0]} rows\".\n",
    "      format(prev=size_prev, after=size_after))"
   ]
  },
  {
   "cell_type": "code",
   "execution_count": 12,
   "metadata": {},
   "outputs": [
    {
     "data": {
      "text/plain": [
       "{'whiskers': [<matplotlib.lines.Line2D at 0x23b4ac68f48>,\n",
       "  <matplotlib.lines.Line2D at 0x23b4ac68e48>],\n",
       " 'caps': [<matplotlib.lines.Line2D at 0x23b4ac73888>,\n",
       "  <matplotlib.lines.Line2D at 0x23b4ac73fc8>],\n",
       " 'boxes': [<matplotlib.lines.Line2D at 0x23b4ac68388>],\n",
       " 'medians': [<matplotlib.lines.Line2D at 0x23b4ac79988>],\n",
       " 'fliers': [<matplotlib.lines.Line2D at 0x23b4ac7e9c8>],\n",
       " 'means': []}"
      ]
     },
     "execution_count": 12,
     "metadata": {},
     "output_type": "execute_result"
    },
    {
     "data": {
      "image/png": "[encoded data removed]",
      "text/plain": [
       "<Figure size 432x288 with 1 Axes>"
      ]
     },
     "metadata": {
      "needs_background": "light"
     },
     "output_type": "display_data"
    }
   ],
   "source": [
    "# Plot boxplot\n",
    "plt.boxplot(df.visit, notch=True)"
   ]
  },
  {
   "cell_type": "code",
   "execution_count": 14,
   "metadata": {},
   "outputs": [
    {
     "name": "stdout",
     "output_type": "stream",
     "text": [
      "Removed Outlier Data Set: 923\n"
     ]
    }
   ],
   "source": [
    "# Remove outliers > 2900 and < 100\n",
    "df1 = df[(df['visit'] <= 2900) & (df['visit'] >= 100)]\n",
    "print(\"Removed Outlier Data Set: {}\".format(*df1.shape))"
   ]
  }
 ],
 "metadata": {
  "kernelspec": {
   "display_name": "Python 3",
   "language": "python",
   "name": "python3"
  },
  "language_info": {
   "codemirror_mode": {
    "name": "ipython",
    "version": 3
   },
   "file_extension": ".py",
   "mimetype": "text/x-python",
   "name": "python",
   "nbconvert_exporter": "python",
   "pygments_lexer": "ipython3",
   "version": "3.7.4"
  }
 },
 "nbformat": 4,
 "nbformat_minor": 2
}
