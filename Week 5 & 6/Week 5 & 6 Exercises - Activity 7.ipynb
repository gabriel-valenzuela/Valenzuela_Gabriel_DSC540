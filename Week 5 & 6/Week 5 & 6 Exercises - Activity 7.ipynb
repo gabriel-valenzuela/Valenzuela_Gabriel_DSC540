{
 "cells": [
  {
   "cell_type": "code",
   "execution_count": 15,
   "metadata": {},
   "outputs": [
    {
     "data": {
      "text/plain": [
       "<function TextIOWrapper.close()>"
      ]
     },
     "execution_count": 15,
     "metadata": {},
     "output_type": "execute_result"
    }
   ],
   "source": [
    "# Import Beautiful Soup and load data\n",
    "from bs4 import BeautifulSoup\n",
    "import pandas as pd\n",
    "import requests\n",
    "#url = \"https://en.wikipedia.org/wiki/List_of_countries_by_GDP_(nominal)\"\n",
    "#GDP = requests.get(url).text\n",
    "#soup = BeautifulSoup(GDP)\n",
    "\n",
    "fd = open(\"List of countries by GDP (nominal) - Wikipedia.htm\",\"r\",encoding = 'utf-8')\n",
    "soup = BeautifulSoup(fd)\n",
    "fd.close"
   ]
  },
  {
   "cell_type": "code",
   "execution_count": 16,
   "metadata": {},
   "outputs": [
    {
     "name": "stdout",
     "output_type": "stream",
     "text": [
      "Total number of tables are 9 \n"
     ]
    }
   ],
   "source": [
    "# Number of tables\n",
    "all_tables = soup.find_all(\"table\")\n",
    "print(\"Total number of tables are {} \".format(len(all_tables)))"
   ]
  },
  {
   "cell_type": "code",
   "execution_count": 17,
   "metadata": {},
   "outputs": [
    {
     "name": "stdout",
     "output_type": "stream",
     "text": [
      "<class 'bs4.element.Tag'>\n"
     ]
    }
   ],
   "source": [
    "# Locate correct table\n",
    "data_table = soup.find(\"table\", {\"class: \", '\"wikitable\"|}'})\n",
    "print(type(data_table))"
   ]
  },
  {
   "cell_type": "code",
   "execution_count": 26,
   "metadata": {},
   "outputs": [
    {
     "name": "stdout",
     "output_type": "stream",
     "text": [
      "Total number of sources are 3\n"
     ]
    }
   ],
   "source": [
    "# Seperate the sources\n",
    "sources = data_table.tbody.findAll('tr', recursive=False)[0]\n",
    "sources_list = [td for td in sources.findAll('td')]\n",
    "print(\"Total number of sources are {}\".format(len(sources_list)))"
   ]
  },
  {
   "cell_type": "code",
   "execution_count": 27,
   "metadata": {},
   "outputs": [
    {
     "name": "stdout",
     "output_type": "stream",
     "text": [
      "['International Monetary Fund', 'World Bank', 'United Nations']\n"
     ]
    }
   ],
   "source": [
    "# Source Names\n",
    "data = data_table.tbody.findAll('tr', recursive=False)[1].findAll('td', recursive=False)\n",
    "data_tables = []\n",
    "for td in data:\n",
    "    data_tables.append(td.findAll('table'))\n",
    "source_names = [source.findAll('a')[0].getText() for source in sources_list]\n",
    "print(source_names)"
   ]
  },
  {
   "cell_type": "code",
   "execution_count": 36,
   "metadata": {},
   "outputs": [
    {
     "name": "stdout",
     "output_type": "stream",
     "text": [
      "['Rank', 'Country', 'GDP(US$MM)']\n"
     ]
    }
   ],
   "source": [
    "# Header 1\n",
    "header1 = [th.getText().strip() for th in data_tables[0][0].findAll('thead')[0].findAll('th')]\n",
    "print(header1)"
   ]
  },
  {
   "cell_type": "code",
   "execution_count": 37,
   "metadata": {},
   "outputs": [
    {
     "name": "stdout",
     "output_type": "stream",
     "text": [
      "  Rank         Country  GDP(US$MM)\n",
      "0    1   United States  19,390,600\n",
      "1    2      China[n 1]  12,014,610\n",
      "2    3           Japan   4,872,135\n",
      "3    4         Germany   3,684,816\n",
      "4    5  United Kingdom   2,624,529\n"
     ]
    }
   ],
   "source": [
    "# Dataframe 1\n",
    "rows1 = data_tables[0][0].findAll('tbody')[0].findAll('tr')[1:]\n",
    "data_rows1 = [[td.get_text().strip() for td in tr.findAll('td')] for tr in rows1]\n",
    "df1 = pd.DataFrame(data_rows1, columns = header1)\n",
    "print(df1.head())"
   ]
  },
  {
   "cell_type": "code",
   "execution_count": 38,
   "metadata": {},
   "outputs": [
    {
     "name": "stdout",
     "output_type": "stream",
     "text": [
      "['Rank', 'Country', 'GDP(US$MM)']\n"
     ]
    }
   ],
   "source": [
    "# Header 2\n",
    "header2 = [th.getText().strip() for th in data_tables[1][0].findAll('thead')[0].findAll('th')]\n",
    "print(header2)"
   ]
  },
  {
   "cell_type": "code",
   "execution_count": 41,
   "metadata": {},
   "outputs": [
    {
     "name": "stdout",
     "output_type": "stream",
     "text": [
      "  Rank             Country  GDP(US$MM)\n",
      "0    1       United States  19,390,604\n",
      "1       European Union[23]  17,277,698\n",
      "2    2          China[n 4]  12,237,700\n",
      "3    3               Japan   4,872,137\n",
      "4    4             Germany   3,677,439\n"
     ]
    }
   ],
   "source": [
    "# Dataframe 2\n",
    "def remove_char(i, td):\n",
    "    if i == 0:\n",
    "        return td.getText().strip()\n",
    "    elif i == 1:\n",
    "        return td.getText().strip()\n",
    "    else:\n",
    "        index = td.text.find(\"♠\")\n",
    "        return td.text[index+1:].strip()\n",
    "\n",
    "rows2 = data_tables[1][0].findAll('tbody')[0].findAll('tr')[1:]\n",
    "data_rows2 = [[remove_char(i, td) for i, td in enumerate(tr.findAll('td'))] for tr in rows2]\n",
    "df2 = pd.DataFrame(data_rows2, columns = header2)\n",
    "print(df2.head())"
   ]
  },
  {
   "cell_type": "code",
   "execution_count": 42,
   "metadata": {},
   "outputs": [
    {
     "name": "stdout",
     "output_type": "stream",
     "text": [
      "['Rank', 'Country', 'GDP(US$MM)']\n"
     ]
    }
   ],
   "source": [
    "# Header 3\n",
    "header3 = [th.getText().strip() for th in data_tables[2][0].findAll('thead')[0].findAll('th')]\n",
    "print(header3)"
   ]
  },
  {
   "cell_type": "code",
   "execution_count": 45,
   "metadata": {},
   "outputs": [
    {
     "name": "stdout",
     "output_type": "stream",
     "text": [
      "  Rank         Country  GDP(US$MM)\n",
      "0    1   United States  18,624,475\n",
      "1    2      China[n 4]  11,218,281\n",
      "2    3           Japan   4,936,211\n",
      "3    4         Germany   3,477,796\n",
      "4    5  United Kingdom   2,647,898\n"
     ]
    }
   ],
   "source": [
    "# Dataframe 3\n",
    "rows3 = data_tables[2][0].findAll('tbody')[0].findAll('tr')[1:]\n",
    "data_rows3 = [[remove_char(i, td) for i, td in enumerate(tr.findAll('td'))] for tr in rows3]\n",
    "df3 = pd.DataFrame(data_rows3, columns = header3)\n",
    "print(df3.head())"
   ]
  }
 ],
 "metadata": {
  "kernelspec": {
   "display_name": "Python 3",
   "language": "python",
   "name": "python3"
  },
  "language_info": {
   "codemirror_mode": {
    "name": "ipython",
    "version": 3
   },
   "file_extension": ".py",
   "mimetype": "text/x-python",
   "name": "python",
   "nbconvert_exporter": "python",
   "pygments_lexer": "ipython3",
   "version": "3.7.4"
  }
 },
 "nbformat": 4,
 "nbformat_minor": 2
}
