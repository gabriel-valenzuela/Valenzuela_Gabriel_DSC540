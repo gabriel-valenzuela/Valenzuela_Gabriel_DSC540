{
 "cells": [
  {
   "cell_type": "code",
   "execution_count": 1,
   "metadata": {},
   "outputs": [],
   "source": [
    "# Activity 9\n",
    "# Import libraries\n",
    "import urllib.request, urllib.parse, urllib.error\n",
    "import requests\n",
    "from bs4 import BeautifulSoup\n",
    "import ssl\n",
    "import re"
   ]
  },
  {
   "cell_type": "code",
   "execution_count": 2,
   "metadata": {},
   "outputs": [],
   "source": [
    "# Check SSL Certificates\n",
    "ctx = ssl.create_default_context()\n",
    "ctx.check_hostname = False\n",
    "ctx.verify_mode = ssl.CERT_NONE"
   ]
  },
  {
   "cell_type": "code",
   "execution_count": 3,
   "metadata": {},
   "outputs": [],
   "source": [
    "# Read HTML from URL\n",
    "top100url = 'https://www.gutenberg.org/browse/scores/top'\n",
    "response = requests.get(top100url)"
   ]
  },
  {
   "cell_type": "code",
   "execution_count": 4,
   "metadata": {},
   "outputs": [
    {
     "name": "stdout",
     "output_type": "stream",
     "text": [
      "Success!\n"
     ]
    },
    {
     "data": {
      "text/plain": [
       "1"
      ]
     },
     "execution_count": 4,
     "metadata": {},
     "output_type": "execute_result"
    }
   ],
   "source": [
    "# Check status of web request\n",
    "def status_check(r):\n",
    "    if r.status_code==200:\n",
    "        print(\"Success!\")\n",
    "        return 1\n",
    "    else:\n",
    "        print(\"Failed!\")\n",
    "        return -1\n",
    "    \n",
    "status_check(response)"
   ]
  },
  {
   "cell_type": "code",
   "execution_count": 5,
   "metadata": {},
   "outputs": [],
   "source": [
    "# Decode response and pass for parsing\n",
    "contents = response.content.decode(response.encoding)\n",
    "soup = BeautifulSoup(contents, 'html.parser')"
   ]
  },
  {
   "cell_type": "code",
   "execution_count": 6,
   "metadata": {},
   "outputs": [
    {
     "data": {
      "text/plain": [
       "['/wiki/Main_Page',\n",
       " '/catalog/',\n",
       " '/ebooks/',\n",
       " '/browse/recent/last1',\n",
       " '/browse/scores/top',\n",
       " '/wiki/Gutenberg:Offline_Catalogs',\n",
       " '/catalog/world/mybookmarks',\n",
       " '/wiki/Main_Page',\n",
       " 'https://www.paypal.com/xclick/business=donate%40gutenberg.org&item_name=Donation+to+Project+Gutenberg',\n",
       " '/wiki/Gutenberg:Project_Gutenberg_Needs_Your_Donation',\n",
       " 'http://www.ibiblio.org',\n",
       " 'http://www.pgdp.net/',\n",
       " 'pretty-pictures',\n",
       " '#books-last1',\n",
       " '#authors-last1',\n",
       " '#books-last7',\n",
       " '#authors-last7',\n",
       " '#books-last30',\n",
       " '#authors-last30',\n",
       " '/ebooks/1342',\n",
       " '/ebooks/1952',\n",
       " '/ebooks/11',\n",
       " '/ebooks/84',\n",
       " '/ebooks/844',\n",
       " '/ebooks/43',\n",
       " '/ebooks/2542',\n",
       " '/ebooks/98',\n",
       " '/ebooks/25525',\n",
       " '/ebooks/74',\n",
       " '/ebooks/215']"
      ]
     },
     "execution_count": 6,
     "metadata": {},
     "output_type": "execute_result"
    }
   ],
   "source": [
    "# Find href tags and store links. First 30 elements\n",
    "lst_links=[]\n",
    "for link in soup.find_all('a'):\n",
    "    lst_links.append(link.get('href'))\n",
    "lst_links[:30]"
   ]
  },
  {
   "cell_type": "code",
   "execution_count": 7,
   "metadata": {},
   "outputs": [
    {
     "name": "stdout",
     "output_type": "stream",
     "text": [
      "\n",
      "The file numbers for the top 100 ebooks on Gutenberg are shown below\n",
      "----------------------------------------------------------------------\n",
      "[1342, 1952, 11, 84, 844, 43, 2542, 98, 25525, 74, 215, 1661, 1080, 120, 1635, 1250, 2701, 5200, 514, 174, 376, 76, 55, 1400, 46, 2852, 16, 345, 1998, 2591, 16328, 1260, 205, 2600, 113, 158, 219, 25344, 45, 1232, 2814, 4300, 1064, 42324, 160, 36, 5740, 1184, 2500, 244, 3825, 768, 28054, 43936, 203, 2554, 1727, 730, 58585, 27827, 42686, 3207, 140, 1497, 236, 6130, 17396, 2097, 62086, 35, 28860, 3600, 135, 863, 829, 23700, 1399, 408, 996, 521, 2680, 19942, 4363, 23, 14838, 62081, 58975, 7370, 41, 209, 43453, 161, 766, 33283, 25305, 3090, 105, 62084, 100, 1001]\n"
     ]
    }
   ],
   "source": [
    "# Find numeric digits in links\n",
    "# Empty list\n",
    "booknum=[]\n",
    "for i in range(19,119):\n",
    "    link=lst_links[i]\n",
    "    link=link.strip()\n",
    "    n=re.findall('[0-9]+',link)\n",
    "    if len(n)==1:\n",
    "        booknum.append(int(n[0]))\n",
    "print (\"\\nThe file numbers for the top 100 ebooks on Gutenberg are shown below\\n\"+\"-\"*70)\n",
    "print(booknum)"
   ]
  },
  {
   "cell_type": "code",
   "execution_count": 9,
   "metadata": {},
   "outputs": [
    {
     "name": "stdout",
     "output_type": "stream",
     "text": [
      "\n",
      "\n",
      "\n",
      "\n",
      "\n",
      "\n",
      "\n",
      "\n",
      "\n",
      "      if (top != self) {\n",
      "        top.location.replace ('http://www.gutenberg.org');\n",
      "        alert ('Project Gutenberg is a FREE service with NO membership required. If you paid somebody else to get here, make them give you your money back!');\n",
      "      }\n",
      "    \n",
      " \n",
      "Top 100 - Project Gutenberg\n",
      "\n",
      "\n",
      "\n",
      "\n",
      "\n",
      "\n",
      "\n",
      "\n",
      "Online Book Catalog\n",
      "=> \n",
      "\n",
      "\n",
      "\n",
      " Book  Search\n",
      "-- Recent  Books\n",
      "-- Top  100\n",
      "-- Offline Catalogs\n",
      "-- My Bookmarks\n",
      "\n",
      "\n",
      "Main Page\n",
      "\n",
      "\n",
      "\n",
      "\n",
      "Project Gutenberg needs your donation! \n",
      "        More Info\n",
      "\n",
      "\n",
      "\n",
      "\n",
      "\n",
      "\n",
      "\n",
      "\n",
      "Did you know that you can help us produce ebooks\n",
      "by proof-reading just one page a day?\n",
      "Go to: Distributed Proofreaders\n",
      "\n",
      "\n",
      "\n",
      "Top 100\n",
      "\n",
      "\n",
      "To determine the ranking we count the times each file gets downloaded.\n",
      "Both HTTP and FTP transfers are counted.\n",
      "Only transfers from ibiblio.org are counted as we have no access to our mirrors log files.\n",
      "Multiple downloads from the same IP address on the same day count as one download.\n",
      "IP addresses that download more than 100 files a day are considered\n",
      "robots and are not considered.\n",
      "Books made out of multiple files like most audio books are counted\n",
      "if any file is downloaded.\n",
      "\n",
      "Downloaded Books\n",
      "2020-05-11244486\n",
      "last 7 days1598934\n",
      "last 30 days7550485\n",
      "\n",
      "Pretty Pictures\n",
      "\n",
      "Top 100 EBooks yesterday —\n",
      "  Top 100 Authors yesterday —\n",
      "  Top 100 EBooks last 7 days —\n",
      "  Top 100 Authors last 7 days —\n",
      "  Top 100 EBooks last 30 days —\n",
      "  Top 100 Authors last 30 days\n",
      "\n",
      "Top 100 EBooks yesterday\n",
      "\n",
      "Pride and Prejudice by Jane Austen (2324)\n",
      "The Yellow Wallpaper by Charlotte Perkins Gilman (1824)\n",
      "Alice's Adventures in Wonderland by Lewis Carroll (1762)\n",
      "Frankenstein; Or, The Modern Prometheus by Mary Wollstonecraft Shelley (1554)\n",
      "The Importance of Being Earnest: A Trivial Comedy for Serious People by Oscar Wilde (1350)\n",
      "The Strange Case of Dr. Jekyll and Mr. Hyde by Robert Louis Stevenson (1190)\n",
      "Et dukkehjem. English by Henrik Ibsen (1176)\n",
      "A Tale of Two Cities by Charles Dickens (1101)\n",
      "The Works of Edgar Allan Poe, The Raven Edition by Edgar Allan Poe (1033)\n",
      "The Adventures of Tom Sawyer \n"
     ]
    }
   ],
   "source": [
    "# soup object's \n",
    "print(soup.text[:2000])"
   ]
  },
  {
   "cell_type": "code",
   "execution_count": 10,
   "metadata": {},
   "outputs": [
    {
     "name": "stdout",
     "output_type": "stream",
     "text": [
      "Pride and Prejudice by Jane Austen \n",
      "The Yellow Wallpaper by Charlotte Perkins Gilman \n",
      "Alice\n",
      "Frankenstein\n",
      "The Importance of Being Earnest\n",
      "The Strange Case of Dr\n",
      "Et dukkehjem\n",
      "A Tale of Two Cities by Charles Dickens \n",
      "The Works of Edgar Allan Poe\n",
      "The Adventures of Tom Sawyer by Mark Twain \n",
      "The Call of the Wild by Jack London \n",
      "The Adventures of Sherlock Holmes by Arthur Conan Doyle \n",
      "A Modest Proposal by Jonathan Swift \n",
      "Treasure Island by Robert Louis Stevenson \n",
      "Ion by Plato \n",
      "Anthem by Ayn Rand \n",
      "Moby Dick\n",
      "Metamorphosis by Franz Kafka \n",
      "Little Women by Louisa May Alcott \n",
      "The Picture of Dorian Gray by Oscar Wilde \n",
      "A Journal of the Plague Year by Daniel Defoe \n",
      "Adventures of Huckleberry Finn by Mark Twain \n",
      "The Wonderful Wizard of Oz by L\n",
      "Great Expectations by Charles Dickens \n",
      "A Christmas Carol in Prose\n",
      "The Hound of the Baskervilles by Arthur Conan Doyle \n",
      "Peter Pan by J\n",
      "Dracula by Bram Stoker \n",
      "Also sprach Zarathustra\n",
      "Grimms\n",
      "Beowulf\n",
      "Jane Eyre\n",
      "Walden\n",
      "War and Peace by graf Leo Tolstoy \n",
      "The Secret Garden by Frances Hodgson Burnett \n",
      "Emma by Jane Austen \n",
      "Heart of Darkness by Joseph Conrad \n",
      "The Scarlet Letter by Nathaniel Hawthorne \n",
      "Anne of Green Gables by L\n",
      "Il Principe\n",
      "Dubliners by James Joyce \n",
      "Ulysses by James Joyce \n",
      "The Masque of the Red Death by Edgar Allan Poe \n",
      "Frankenstein\n",
      "The Awakening\n",
      "The War of the Worlds by H\n",
      "Tractatus Logico\n",
      "The Count of Monte Cristo\n",
      "Siddhartha by Hermann Hesse \n",
      "A Study in Scarlet by Arthur Conan Doyle \n",
      "Pygmalion by Bernard Shaw \n",
      "Wuthering Heights by Emily Bront\n",
      "The Brothers Karamazov by Fyodor Dostoyevsky \n",
      "The Wonderful Wizard of Oz by L\n",
      "Uncle Tom\n",
      "Prestuplenie i nakazanie\n",
      "The Odyssey by Homer \n",
      "Oliver Twist by Charles Dickens \n",
      "The Prophet by Kahlil Gibran \n",
      "The Kama Sutra of Vatsyayana by Vatsyayana \n",
      "A History of Epidemics in Britain\n",
      "Leviathan by Thomas Hobbes \n",
      "The Jungle by Upton Sinclair \n",
      "The Republic by Plato \n",
      "The Jungle Book by Rudyard Kipling \n",
      "The Iliad by Homer \n",
      "The Secret Garden by Frances Hodgson Burnett \n",
      "The Sign of the Four by Arthur Conan Doyle \n",
      "Thackeray by G\n",
      "The Time Machine by H\n",
      "The Memoirs\n",
      "Essays of Michel de Montaigne \n",
      "Les Mis\n",
      "The Mysterious Affair at Styles by Agatha Christie \n",
      "Gulliver\n",
      "The Decameron of Giovanni Boccaccio by Giovanni Boccaccio \n",
      "Anna Karenina by graf Leo Tolstoy \n",
      "The Souls of Black Folk by W\n",
      "Don Quixote by Miguel de Cervantes Saavedra \n",
      "The Life and Adventures of Robinson Crusoe by Daniel Defoe \n",
      "Meditations by Emperor of Rome Marcus Aurelius \n",
      "Candide by Voltaire \n",
      "Beyond Good and Evil by Friedrich Wilhelm Nietzsche \n",
      "Narrative of the Life of Frederick Douglass\n",
      "The Tale of Peter Rabbit by Beatrix Potter \n",
      "The Timber Pirate by Charles Christopher Jenkins \n",
      "Index of Project Gutenberg Works on Black History by Various \n",
      "Second Treatise of Government by John Locke \n",
      "The Legend of Sleepy Hollow by Washington Irving \n",
      "The Turn of the Screw by Henry James \n",
      "A Pickle for the Knowing Ones by Timothy Dexter \n",
      "Sense and Sensibility by Jane Austen \n",
      "David Copperfield by Charles Dickens \n",
      "Calculus Made Easy by Silvanus P\n",
      "Memoirs of Fanny Hill by John Cleland \n",
      "Complete Original Short Stories of Guy De Maupassant by Guy de Maupassant \n",
      "Persuasion by Jane Austen \n",
      "The Deceased Wife\n",
      "The Complete Works of William Shakespeare by William Shakespeare \n",
      "Divine Comedy\n"
     ]
    }
   ],
   "source": [
    "# Find the name of the top 100 Ebooks (yesterday's ranking)\n",
    "lst_titles_temp=[]\n",
    "# Split the lines of the text of the soup object\n",
    "start_idx=soup.text.splitlines().index('Top 100 EBooks yesterday')\n",
    "# Add strings of next 100 lines\n",
    "for i in range(100):\n",
    "    lst_titles_temp.append(soup.text.splitlines()[start_idx+2+i])\n",
    "# Extract only the text from the names\n",
    "lst_titles=[]\n",
    "for i in range(100):\n",
    "    id1,id2=re.match('^[a-zA-Z ]*',lst_titles_temp[i]).span()\n",
    "    lst_titles.append(lst_titles_temp[i][id1:id2])\n",
    "for l in lst_titles:\n",
    "    print(l)"
   ]
  }
 ],
 "metadata": {
  "kernelspec": {
   "display_name": "Python 3",
   "language": "python",
   "name": "python3"
  },
  "language_info": {
   "codemirror_mode": {
    "name": "ipython",
    "version": 3
   },
   "file_extension": ".py",
   "mimetype": "text/x-python",
   "name": "python",
   "nbconvert_exporter": "python",
   "pygments_lexer": "ipython3",
   "version": "3.7.4"
  }
 },
 "nbformat": 4,
 "nbformat_minor": 2
}
