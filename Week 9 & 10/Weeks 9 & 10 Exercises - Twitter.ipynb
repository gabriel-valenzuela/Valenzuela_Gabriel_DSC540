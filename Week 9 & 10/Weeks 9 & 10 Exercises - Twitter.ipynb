{
 "cells": [
  {
   "cell_type": "code",
   "execution_count": 3,
   "metadata": {},
   "outputs": [
    {
     "name": "stdout",
     "output_type": "stream",
     "text": [
      "{\"created_at\": \"Tue May 05 17:38:11 +0000 2020\", \"default_profile\": true, \"default_profile_image\": true, \"description\": \"Class Project\", \"id\": 1257726249469980677, \"id_str\": \"1257726249469980677\", \"name\": \"Gabe Valenzuela\", \"profile_background_color\": \"F5F8FA\", \"profile_image_url\": \"http://abs.twimg.com/sticky/default_profile_images/default_profile_normal.png\", \"profile_image_url_https\": \"https://abs.twimg.com/sticky/default_profile_images/default_profile_normal.png\", \"profile_link_color\": \"1DA1F2\", \"profile_sidebar_border_color\": \"C0DEED\", \"profile_sidebar_fill_color\": \"DDEEF6\", \"profile_text_color\": \"333333\", \"profile_use_background_image\": true, \"screen_name\": \"GabeValenzuela5\"}\n"
     ]
    }
   ],
   "source": [
    "import twitter\n",
    "api = twitter.Api(consumer_key='ngQranKkA5BVHPd3kFmbCQZnE',\n",
    "  consumer_secret='FWxYJUXjEL4r1B7hrAZfpnJBUou3vYlTF4CikP6yM5uyMnQxnC',\n",
    "    access_token_key='1257726249469980677-rx0eoHeqyNXSLfaYq0IgLUkvokQT5j',\n",
    "    access_token_secret='HOxjue3Farb0OKvC0sQVZmUA0FVa4dO1V6rNGgIqDwsCu')\n",
    "print(api.VerifyCredentials())"
   ]
  },
  {
   "cell_type": "code",
   "execution_count": 4,
   "metadata": {},
   "outputs": [
    {
     "data": {
      "text/plain": [
       "[Status(ID=1260272163489288194, ScreenName=wojespn, Created=Tue May 12 18:14:33 +0000 2020, Text=\"National Basketball Players Association regional representatives started texting NBA players today with a 'yes or n… https://t.co/PoShvk7gcF\"),\n",
       " Status(ID=1260617415118819328, ScreenName=NickSwagyPYoung, Created=Wed May 13 17:06:27 +0000 2020, Text='I dnt get how in every basketball talk, Tv or pod .. they say mj, Kobe, LJ in any order but them the top 3 always .… https://t.co/vGnPWIQmhq'),\n",
       " Status(ID=1260592578183024642, ScreenName=ComplexSneakers, Created=Wed May 13 15:27:45 +0000 2020, Text='Happy birthday to a true style and basketball icon @dennisrodman 😤 https://t.co/A6hdDeRzM7'),\n",
       " Status(ID=1260628229569863680, ScreenName=king_rela, Created=Wed May 13 17:49:25 +0000 2020, Text='RT @NickSwagyPYoung: I dnt get how in every basketball talk, Tv or pod .. they say mj, Kobe, LJ in any order but them the top 3 always ....…'),\n",
       " Status(ID=1260628229444042752, ScreenName=Starkman55, Created=Wed May 13 17:49:25 +0000 2020, Text='RT @collegebbscoop: https://t.co/jEb0cVpQPt'),\n",
       " Status(ID=1260628220954783746, ScreenName=hotsosreis, Created=Wed May 13 17:49:23 +0000 2020, Text=\"RT @tsd1888: A rad prof at my uni leaked a zoom video on youtube from the uni's senate council mtg, and omg it's juicy &amp; outrageous af. \\n\\nA…\"),\n",
       " Status(ID=1260628216101826560, ScreenName=IAmTheWardog, Created=Wed May 13 17:49:22 +0000 2020, Text='Oh snap this is a must read for you \\u2066@survivorcbs\\u2069 &amp; \\u2066@NBA\\u2069 crossover fans!  Thank you \\u2066@DreamShakeSBN\\u2069 for putting… https://t.co/PHSizk1G6Q'),\n",
       " Status(ID=1260628215875411969, ScreenName=CoachSkip10, Created=Wed May 13 17:49:22 +0000 2020, Text='RT @JohnBybee: Consistency is key! \\n\\n@DMS_Basketball @DMSDragons @DMSDragonsCheer @SimonaNewman11 @Larry_Proffitt @coachminnis @brianellis0…'),\n",
       " Status(ID=1260628212889128960, ScreenName=Halftime_Sportz, Created=Wed May 13 17:49:21 +0000 2020, Text='Represent Your State - 5th Annual U.S. Basketball Games https://t.co/FcF2PfJarO  August 7-9, 2020 https://t.co/U1FkeZQtPF'),\n",
       " Status(ID=1260628209428828162, ScreenName=jared_valluzzi, Created=Wed May 13 17:49:21 +0000 2020, Text='Next vid: The best pure HS athletes on Long Island. This will be mainly class of 2020 athletes but 2021’s can get o… https://t.co/AkkPEJForv'),\n",
       " Status(ID=1260628208581476353, ScreenName=NotAStarStretch, Created=Wed May 13 17:49:20 +0000 2020, Text='So I scroll up some, only to realize they started discussing 🐐 pornstars. Like abruptly ended the basketball discus… https://t.co/X3CR4v9LzW'),\n",
       " Status(ID=1260628207050477568, ScreenName=johnrpalacio, Created=Wed May 13 17:49:20 +0000 2020, Text='RT @NickSwagyPYoung: I dnt get how in every basketball talk, Tv or pod .. they say mj, Kobe, LJ in any order but them the top 3 always ....…'),\n",
       " Status(ID=1260628206022873089, ScreenName=DerekJr1_, Created=Wed May 13 17:49:20 +0000 2020, Text='RT @NickSwagyPYoung: I dnt get how in every basketball talk, Tv or pod .. they say mj, Kobe, LJ in any order but them the top 3 always ....…'),\n",
       " Status(ID=1260628196447473665, ScreenName=too_slow_, Created=Wed May 13 17:49:18 +0000 2020, Text='@heythisismyat @IfasokeOwens Not rey go too deep into this but the main difference is Magic could actually SCORE th… https://t.co/1owfTK2tC8'),\n",
       " Status(ID=1260628187702165504, ScreenName=WarthogWilson, Created=Wed May 13 17:49:15 +0000 2020, Text=\"@Adam48967081 @shaolinobd @espn That was the year he came back late. He wasn't in basketball shape. They swept that… https://t.co/HdRTBe2UGS\"),\n",
       " Status(ID=1260628182643834880, ScreenName=CoachCook4444, Created=Wed May 13 17:49:14 +0000 2020, Text='RT @coachlooneyisu: Update! Idaho State University Basketball Camps!  https://t.co/Og8qSDVcD8'),\n",
       " Status(ID=1260628181876445187, ScreenName=soriahsidaui, Created=Wed May 13 17:49:14 +0000 2020, Text='RT @NickSwagyPYoung: I dnt get how in every basketball talk, Tv or pod .. they say mj, Kobe, LJ in any order but them the top 3 always ....…'),\n",
       " Status(ID=1260628178659393539, ScreenName=Fromgirltogirl, Created=Wed May 13 17:49:13 +0000 2020, Text='Do you agree with this list of the greatest #basketball players of all time (thus far)? Read why experts ranked the… https://t.co/GP7RIUzukj'),\n",
       " Status(ID=1260628171453607938, ScreenName=AWilliamsHoops, Created=Wed May 13 17:49:12 +0000 2020, Text='#Hoopfam where were you when this amazing play by \\u2066@derekfisher\\u2069 happened 16 years ago today in the \\u2066@NBA\\u2069 Playoffs… https://t.co/7bP3MYZhtc'),\n",
       " Status(ID=1260628166588145665, ScreenName=Goat1420, Created=Wed May 13 17:49:10 +0000 2020, Text='RT @SportandoIT: Il ‘Mixtape’ del fenomeno Emoni Bates  https://t.co/SEHB3ElBx9'),\n",
       " Status(ID=1260628160405790722, ScreenName=vickiebananas, Created=Wed May 13 17:49:09 +0000 2020, Text='RT @tsd1888: In sum, the answer is a hard no. the president who makes $1.5mil/yr &amp; the basketball coach who makes $8mil/yr have no desire t…'),\n",
       " Status(ID=1260628152629542915, ScreenName=AndrewTrachtman, Created=Wed May 13 17:49:07 +0000 2020, Text='RT @BoiledSports: If you don’t like bleeding ears, but you want to hear Paint spit the knowledge...\\nhttps://t.co/27nRLLrCR9'),\n",
       " Status(ID=1260628150964367360, ScreenName=FlipTheScript8, Created=Wed May 13 17:49:07 +0000 2020, Text='RT @OU_WBBall: Former Sooners standout Courtney Paris returns to Oklahoma as an assistant coach. \\n\\n➡️ https://t.co/a9mzN1imAl https://t.co/…'),\n",
       " Status(ID=1260628146627452929, ScreenName=SCNmag, Created=Wed May 13 17:49:06 +0000 2020, Text='RT @XploreInc: BrightSign Powers Basketball Wall Of Fame https://t.co/78L9ePA3W8 @BrightSign @SCNmag #digital #signage #display https://t.c…'),\n",
       " Status(ID=1260628146438750210, ScreenName=KirkFowles, Created=Wed May 13 17:49:06 +0000 2020, Text='RT @MikeGrimala: UNLV basketball non-conference schedule announced:\\n\\n11/6 vs Chaminade (exh.)\\n11/10 vs Montana St\\n11/14 vs Cal\\n11/17 vs UCL…'),\n",
       " Status(ID=1260628146178719745, ScreenName=VarsityMaine, Created=Wed May 13 17:49:06 +0000 2020, Text='Lewiston Sun Journal: Craig Jipson named Poland girls basketball coach https://t.co/dEsQ74dy6k'),\n",
       " Status(ID=1260628138607865856, ScreenName=KaRaBuddies, Created=Wed May 13 17:49:04 +0000 2020, Text='RT @thea_gagate: its not always basketball honey | follow me on tiktok 😬 https://t.co/pZs1nnIx95'),\n",
       " Status(ID=1260628136573767681, ScreenName=hoe361, Created=Wed May 13 17:49:03 +0000 2020, Text='RT @HeadB216: COLLEGE BASKETBALL PLAYER HOME CAUSE OF THE RONA! THE CUM SHOT IS LIT AF!!\\n\\n#TAPIN TO MY ONLYFANS - https://t.co/PzEmZOdpxJ h…'),\n",
       " Status(ID=1260628135202246664, ScreenName=SeanCoombs2, Created=Wed May 13 17:49:03 +0000 2020, Text=\"RT @GW_MBB: #14 looks familiar 👀\\n\\n@JamionChristian named to @espn's Top 40 Coaches Under 40  #RaiseHigh | #R1SEWITHUS \\n\\n🔗: https://t.co/q7N…\"),\n",
       " Status(ID=1260628131842531329, ScreenName=truthorbare, Created=Wed May 13 17:49:02 +0000 2020, Text='60 miles away from here people are\\n\\nPlaying golf.\\n\\nPlaying tennis\\n\\nPlaying basketball\\n\\nWorking.\\n\\nGoing to the tip.… https://t.co/1jLGOqKgrR'),\n",
       " Status(ID=1260628129971933187, ScreenName=brugvas, Created=Wed May 13 17:49:02 +0000 2020, Text='RT @ComplexSneakers: Happy birthday to a true style and basketball icon @dennisrodman 😤 https://t.co/A6hdDeRzM7'),\n",
       " Status(ID=1260628125710454784, ScreenName=Dudusududus, Created=Wed May 13 17:49:01 +0000 2020, Text=\"RT @UgenyasDuke: @th3doctor15 I don't know what impressed me most about the YMCA court in Kampala, the organization (members cards and digi…\"),\n",
       " Status(ID=1260628119771320326, ScreenName=stephenahornby, Created=Wed May 13 17:48:59 +0000 2020, Text='@dan_freakbeat I thought you had to like basketball so might watch it now, just never got round to it. I’ll watch t… https://t.co/aHUJwsJCaD'),\n",
       " Status(ID=1260628111202246657, ScreenName=Blacksenseii, Created=Wed May 13 17:48:57 +0000 2020, Text='RT @NickSwagyPYoung: I dnt get how in every basketball talk, Tv or pod .. they say mj, Kobe, LJ in any order but them the top 3 always ....…'),\n",
       " Status(ID=1260628106475438087, ScreenName=carlosdabippa, Created=Wed May 13 17:48:56 +0000 2020, Text='RT @NickSwagyPYoung: I dnt get how in every basketball talk, Tv or pod .. they say mj, Kobe, LJ in any order but them the top 3 always ....…'),\n",
       " Status(ID=1260628103757512705, ScreenName=justralph23, Created=Wed May 13 17:48:55 +0000 2020, Text='RT @NickSwagyPYoung: I dnt get how in every basketball talk, Tv or pod .. they say mj, Kobe, LJ in any order but them the top 3 always ....…'),\n",
       " Status(ID=1260628099693150212, ScreenName=jeremylambert88, Created=Wed May 13 17:48:54 +0000 2020, Text=\"RT @HickoryHigh: I'm doing a mailbag edition of #TheWhiteboard for Friday so send me your questions now. Ask me anything, basketball or oth…\"),\n",
       " Status(ID=1260628098900357122, ScreenName=Artin__22, Created=Wed May 13 17:48:54 +0000 2020, Text='RT @NickSwagyPYoung: I dnt get how in every basketball talk, Tv or pod .. they say mj, Kobe, LJ in any order but them the top 3 always ....…'),\n",
       " Status(ID=1260628094102241282, ScreenName=findingnihad, Created=Wed May 13 17:48:53 +0000 2020, Text='RT @TheHoopHustle: Super skilled 6’11” Big/Wing Kyle Filipowski just picked up an offer from @UConnMBB and SHOULD BE considered a consensus…'),\n",
       " Status(ID=1260628087261343744, ScreenName=Freckelz43, Created=Wed May 13 17:48:51 +0000 2020, Text=\"RT @tsd1888: A rad prof at my uni leaked a zoom video on youtube from the uni's senate council mtg, and omg it's juicy &amp; outrageous af. \\n\\nA…\"),\n",
       " Status(ID=1260628081380864000, ScreenName=_scaryh, Created=Wed May 13 17:48:50 +0000 2020, Text=\"RT @tsd1888: A rad prof at my uni leaked a zoom video on youtube from the uni's senate council mtg, and omg it's juicy &amp; outrageous af. \\n\\nA…\"),\n",
       " Status(ID=1260628075051544577, ScreenName=mc_swaggletooth, Created=Wed May 13 17:48:49 +0000 2020, Text='@espn How are the rankings done, stats, accomplishments, awards, rings, or basketball? If you talking about just ba… https://t.co/bMyOWbbvaA'),\n",
       " Status(ID=1260628071113261060, ScreenName=Jiggy_White, Created=Wed May 13 17:48:48 +0000 2020, Text='mf’s talking shit about UD in the comments like he doesn’t have 3 rings. y’all really don’t watch basketball https://t.co/7mpOInb0CF'),\n",
       " Status(ID=1260628065790681089, ScreenName=bkelley22_, Created=Wed May 13 17:48:46 +0000 2020, Text='RT @NickSwagyPYoung: I dnt get how in every basketball talk, Tv or pod .. they say mj, Kobe, LJ in any order but them the top 3 always ....…'),\n",
       " Status(ID=1260628060090621953, ScreenName=WWChoppers13, Created=Wed May 13 17:48:45 +0000 2020, Text='@SpicyBron @nedjo144 @SamQuinnCBS @Vitricate Dude is so corny. Mark Cuban busted Skips ass trying to say Bron just… https://t.co/agzdpUqJPQ'),\n",
       " Status(ID=1260628058765168645, ScreenName=jacepablo, Created=Wed May 13 17:48:45 +0000 2020, Text='i’m sorry but my mama too nice, imma be eating my kid up at they basketball games'),\n",
       " Status(ID=1260628058400108544, ScreenName=JimbofromEXOS, Created=Wed May 13 17:48:45 +0000 2020, Text='RT @machado_dante: I feel like basketball is the only sport that tries to compare players from different eras like the game hasn’t changed…'),\n",
       " Status(ID=1260628052293357568, ScreenName=T8derade, Created=Wed May 13 17:48:43 +0000 2020, Text='@Jeremy_Danner Unfortunately, Kevin still can’t dunk a basketball. https://t.co/n6Vmx7fUY7'),\n",
       " Status(ID=1260628051534233608, ScreenName=pc5408, Created=Wed May 13 17:48:43 +0000 2020, Text=\"RT @OU_WBBall: The most decorated player in University of Oklahoma women's basketball history is returning to her alma mater to serve her f…\"),\n",
       " Status(ID=1260628050187780097, ScreenName=UlreyThisWeek, Created=Wed May 13 17:48:43 +0000 2020, Text='RT @BWHS_Athletics: Proud and excited to announce alumni and former girls coach Sam Davis has been hired as our new varsity girls basketbal…')]"
      ]
     },
     "execution_count": 4,
     "metadata": {},
     "output_type": "execute_result"
    }
   ],
   "source": [
    "api.GetSearch(term='basketball', since=2018-8-19, count=50)"
   ]
  }
 ],
 "metadata": {
  "kernelspec": {
   "display_name": "Python 3",
   "language": "python",
   "name": "python3"
  },
  "language_info": {
   "codemirror_mode": {
    "name": "ipython",
    "version": 3
   },
   "file_extension": ".py",
   "mimetype": "text/x-python",
   "name": "python",
   "nbconvert_exporter": "python",
   "pygments_lexer": "ipython3",
   "version": "3.7.4"
  }
 },
 "nbformat": 4,
 "nbformat_minor": 2
}
